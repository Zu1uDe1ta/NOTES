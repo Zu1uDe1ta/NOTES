{
 "cells": [
  {
   "cell_type": "code",
   "execution_count": 3,
   "metadata": {},
   "outputs": [
    {
     "data": {
      "text/plain": [
       "{'volts': array([0.8912925 , 0.38660116, 0.44487138, 0.47589337, 0.95695859,\n",
       "        0.54071062, 0.95703601, 0.39892917, 0.96439998, 0.77416771]),\n",
       " 'current': array([0.30628769, 0.56393451, 0.17711461, 0.33001197, 0.38597698,\n",
       "        0.57297672, 0.3940918 , 0.08747611, 0.35280421, 0.42392597])}"
      ]
     },
     "execution_count": 3,
     "metadata": {},
     "output_type": "execute_result"
    }
   ],
   "source": [
    "import pickle\n",
    "import numpy as np\n",
    "\n",
    "data_dict = {\n",
    "    \"volts\": np.random.random(10),\n",
    "    \"current\": np.random.random(10),\n",
    "}\n",
    "\n"
   ]
  },
  {
   "cell_type": "code",
   "execution_count": 5,
   "metadata": {},
   "outputs": [],
   "source": [
    "with open('data_pick.pkl', 'wb') as pickle_file:\n",
    "    pickle.dump(data_dict, pickle_file)\n",
    "# with open('file_name.pkl', 'wb = write binary') as object name:\n",
    "# pickle.dump = writes data to new file(data, file object)"
   ]
  },
  {
   "cell_type": "code",
   "execution_count": 8,
   "metadata": {},
   "outputs": [],
   "source": [
    "with open ('data_pick.pkl', 'rb') as pickle_file:\n",
    "    new_data = pickle.load(pickle_file)\n",
    "# with open ('file_name.pkl', 'rb = read binary') as object name\n",
    "# object name we want to give it = pickle.load(file_name)"
   ]
  },
  {
   "cell_type": "code",
   "execution_count": 9,
   "metadata": {},
   "outputs": [
    {
     "data": {
      "text/plain": [
       "{'volts': array([0.8912925 , 0.38660116, 0.44487138, 0.47589337, 0.95695859,\n",
       "        0.54071062, 0.95703601, 0.39892917, 0.96439998, 0.77416771]),\n",
       " 'current': array([0.30628769, 0.56393451, 0.17711461, 0.33001197, 0.38597698,\n",
       "        0.57297672, 0.3940918 , 0.08747611, 0.35280421, 0.42392597])}"
      ]
     },
     "execution_count": 9,
     "metadata": {},
     "output_type": "execute_result"
    }
   ],
   "source": [
    "new_data"
   ]
  },
  {
   "cell_type": "code",
   "execution_count": null,
   "metadata": {},
   "outputs": [],
   "source": []
  }
 ],
 "metadata": {
  "kernelspec": {
   "display_name": "Python 3",
   "language": "python",
   "name": "python3"
  },
  "language_info": {
   "codemirror_mode": {
    "name": "ipython",
    "version": 3
   },
   "file_extension": ".py",
   "mimetype": "text/x-python",
   "name": "python",
   "nbconvert_exporter": "python",
   "pygments_lexer": "ipython3",
   "version": "3.7.4"
  }
 },
 "nbformat": 4,
 "nbformat_minor": 2
}
